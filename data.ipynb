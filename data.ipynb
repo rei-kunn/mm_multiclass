{
 "cells": [
  {
   "cell_type": "code",
   "execution_count": 6,
   "metadata": {},
   "outputs": [
    {
     "name": "stdout",
     "output_type": "stream",
     "text": [
      "[%] Downloading Images to /Users/rei/Dev/ml/lulab/dataset/Myanmar landmarks\n",
      "\n",
      "\n",
      "[!!]Indexing page: 1\n",
      "\n",
      "[%] Indexed 40 Images on Page 1.\n",
      "\n",
      "===============================================\n",
      "\n",
      "[%] Downloading Image #1 from https://www.tripsavvy.com/thmb/If3SV1fJ4vBZNQiv75JojvdVWYI=/4284x2856/filters:no_upscale():max_bytes(150000):strip_icc()/shwedagon-pagoda-at-sunset--yagon--myanmar-977553146-5bbea663c9e77c0051d23339.jpg\n",
      "[%] File Downloaded !\n",
      "\n",
      "[%] Downloading Image #2 from https://thetravelscribes.com/wp-content/uploads/2020/03/Landmarks-in-Myanmar-Uppatasanti-pagoda-naypyitaw-exterior-1080x811.jpg\n",
      "[%] File Downloaded !\n",
      "\n",
      "[%] Downloading Image #3 from https://www.exoticvoyages.com/uploads/images/userfiles/2016/12/Shwedagon-Pagoda-Attractions-in-Myanmar.jpg\n",
      "[%] File Downloaded !\n",
      "\n",
      "[%] Downloading Image #4 from https://d1bv4heaa2n05k.cloudfront.net/other/59df4c1e-45e8-4ea8-a8f7-1db3834d66c2_1533034363905/1533034623977-shutterstock_554325643.jpg\n",
      "[%] File Downloaded !\n",
      "\n",
      "[%] Downloading Image #5 from https://res.cloudinary.com/enchanting/q_70,f_auto,c_fill,g_face/hj-web/2020/10/RGN.A.2012.085400.005_3.jpg\n",
      "[%] File Downloaded !\n",
      "\n",
      "[%] Downloading Image #6 from https://thetravelscribes.com/wp-content/uploads/2020/03/Landmarks-in-Myanmar-Shwedagon-Pagoda-at-night-1080x629.jpg\n",
      "[%] File Downloaded !\n",
      "\n",
      "[%] Downloading Image #7 from https://franks-travelbox.com/wp-content/uploads/2017/10/myanmar-yangon-die-shwedagon-pagode-im-succ88den-von-myanmar-in-der-stadt-yangon-ist-das-wichtigste-heiligtum-und-religiocc88se-zentrum-des-landes-erwinf-fotolia.jpg\n",
      "[%] File Downloaded !\n",
      "\n",
      "[%] Downloading Image #8 from https://cdn.audleytravel.com/-/-/79/115122143146223084166169228136024175157223236242.jpg\n",
      "[%] File Downloaded !\n",
      "\n",
      "[%] Downloading Image #9 from https://www.backpackerswanderlust.com/wp-content/uploads/2017/12/DSC_0160-min-min.jpg\n",
      "[!] Issue getting: https://www.backpackerswanderlust.com/wp-content/uploads/2017/12/DSC_0160-min-min.jpg\n",
      "[!] Error:: HTTP Error 520: \n",
      "[%] Downloading Image #9 from http://3.bp.blogspot.com/-fNIvlDsvxh0/URiK8As_OkI/AAAAAAAABG4/yGe46gzNwIQ/s1600/Exclusive+journey+to+the+Golden+Pagoda+(Shwedagon+Pagoda)+in+Myanmar+Intro.jpg\n",
      "[%] File Downloaded !\n",
      "\n",
      "[%] Downloading Image #10 from http://2.bp.blogspot.com/-vBpNeXC44fA/UyAHGPul5fI/AAAAAAAAE10/26me8-jMseI/s1600/Shwedagon+pagoda+1.jpg\n",
      "[%] File Downloaded !\n",
      "\n",
      "\n",
      "\n",
      "[%] Done. Downloaded 10 images.\n",
      "[%] Downloading Images to /Users/rei/Dev/ml/lulab/dataset/Myanmar traditional clothing\n",
      "\n",
      "\n",
      "[!!]Indexing page: 1\n",
      "\n",
      "[%] Indexed 10 Images on Page 1.\n",
      "\n",
      "===============================================\n",
      "\n",
      "[%] Downloading Image #1 from https://i.pinimg.com/originals/d7/fd/ab/d7fdab0552ee6e8c3a6fb59c9bbd2e91.jpg\n",
      "[%] File Downloaded !\n",
      "\n",
      "[%] Downloading Image #2 from https://i.pinimg.com/originals/91/ee/a9/91eea9b757426ed1897f8e182bf2ca87.jpg\n",
      "[%] File Downloaded !\n",
      "\n",
      "[%] Downloading Image #3 from https://i.pinimg.com/originals/20/f6/92/20f692e370d04d8aa56befe278c66049.jpg\n",
      "[%] File Downloaded !\n",
      "\n",
      "[%] Downloading Image #4 from https://i.pinimg.com/originals/06/a6/7b/06a67b7cbc2fbbb2953f29a181e976de.jpg\n",
      "[%] File Downloaded !\n",
      "\n",
      "[%] Downloading Image #5 from https://i.pinimg.com/originals/98/a3/a1/98a3a151b124e3dbfe85b80ba6a6fdc6.jpg\n",
      "[%] File Downloaded !\n",
      "\n",
      "[%] Downloading Image #6 from https://i.pinimg.com/originals/24/0a/9a/240a9ac6432e386ae6c158850c5aba62.jpg\n",
      "[%] File Downloaded !\n",
      "\n",
      "[%] Downloading Image #7 from https://i.pinimg.com/originals/7c/93/63/7c936303a2e3123a4d49ee3ba08f6181.jpg\n",
      "[%] File Downloaded !\n",
      "\n",
      "[%] Downloading Image #8 from https://i.pinimg.com/originals/f1/fc/99/f1fc99e1b18c96a558f881835aba507f.jpg\n",
      "[%] File Downloaded !\n",
      "\n",
      "[%] Downloading Image #9 from https://i.pinimg.com/originals/c3/b4/93/c3b493c6aa77c747735e200ef5f883a8.jpg\n",
      "[%] File Downloaded !\n",
      "\n",
      "[%] Downloading Image #10 from https://i.pinimg.com/736x/60/22/46/602246ae4171fd973f2b1cede5cfa72a.jpg\n",
      "[%] File Downloaded !\n",
      "\n",
      "\n",
      "\n",
      "[%] Done. Downloaded 10 images.\n",
      "[%] Downloading Images to /Users/rei/Dev/ml/lulab/dataset/Myanmar traditional sports\n",
      "\n",
      "\n",
      "[!!]Indexing page: 1\n",
      "\n",
      "[%] Indexed 10 Images on Page 1.\n",
      "\n",
      "===============================================\n",
      "\n",
      "[%] Downloading Image #1 from https://asiantour-myanmar.com/media/cache/4e/15/4e15f634e52b17d0754431ddbbd8989f.jpg\n",
      "[%] File Downloaded !\n",
      "\n",
      "[%] Downloading Image #2 from http://www.gomyanmartours.com/wp-content/uploads/2016/03/Chinlon-Traditional-Sport-of-Burmese.png\n",
      "[%] File Downloaded !\n",
      "\n",
      "[%] Downloading Image #3 from https://www.gomyanmartours.com/wp-content/uploads/2016/03/Monks-playing-rattan-ball-Chilon.jpg\n",
      "[%] File Downloaded !\n",
      "\n",
      "[%] Downloading Image #4 from https://th-thumbnailer.cdn-si-edu.com/FJ2hEYbrHOrgftAhNZ2ZyhoVx30=/800x600/filters:no_upscale()/https://tf-cmsv2-photocontest-smithsonianmag-prod-approved.s3.amazonaws.com/64e2a1cc-0d9f-4f0e-87eb-8593986de3ab.jpg\n",
      "[%] File Downloaded !\n",
      "\n",
      "[%] Downloading Image #5 from https://c8.alamy.com/comp/FK64D8/chinlone-caneball-the-traditional-sport-of-myanmar-burma-asia-FK64D8.jpg\n",
      "[%] File Downloaded !\n",
      "\n",
      "[%] Downloading Image #6 from https://mingalago.com/media/2018/08/Chinlone_3.jpg\n",
      "[%] File Downloaded !\n",
      "\n",
      "[%] Downloading Image #7 from https://www.gomyanmartours.com/wp-content/uploads/2018/04/Chinlone-the-National-Sport-of-Myanmar.jpg\n",
      "[%] File Downloaded !\n",
      "\n",
      "[%] Downloading Image #8 from https://www.alamy.com/aggregator-api/download?url=https://c8.alamy.com/comp/T80XK6/chin-lone-traditional-sport-in-myanmar-played-with-a-bamboo-ball-pindaya-cave-festival-shan-state-myanmar-burma-asia-T80XK6.jpg\n",
      "[%] File Downloaded !\n",
      "\n",
      "[%] Downloading Image #9 from https://www.go-myanmar.com/sites/go-myanmar.com/files/uploads/hinlone.jpg\n",
      "[%] File Downloaded !\n",
      "\n",
      "[%] Downloading Image #10 from https://cdn.myanmarseo.com/file/client-cdn/gnlm/wp-content/uploads/2022/09/j5sdR5T7-01-sskm.jpg\n",
      "[%] File Downloaded !\n",
      "\n",
      "\n",
      "\n",
      "[%] Done. Downloaded 10 images.\n"
     ]
    }
   ],
   "source": [
    "import os\n",
    "import csv\n",
    "from bing_image_downloader import downloader\n",
    "\n",
    "# Define classes and labels\n",
    "classes = {\n",
    "    'Myanmar landmarks': 'landmark',\n",
    "    'Myanmar traditional clothing': 'clothing',\n",
    "    'Myanmar traditional sports': 'sports'\n",
    "}\n",
    "\n",
    "# Directory for saving images\n",
    "output_dir = 'dataset'\n",
    "\n",
    "# creating the output dir and csv file\n",
    "csv_file = os.path.join(output_dir, 'labels.csv')\n",
    "with open(csv_file, mode='w', newline='') as file:\n",
    "    writer = csv.writer(file)\n",
    "    writer.writerow(['filename', 'label'])\n",
    "\n",
    "    # Download images and write labels\n",
    "    for label, class_label in classes.items():\n",
    "        downloader.download(label, limit=10, output_dir=output_dir, adult_filter_off=True, force_replace=False, timeout=60, verbose=True)\n",
    "\n",
    "        # Look for the directory if it was created or not\n",
    "        class_dir = os.path.join(output_dir, label)\n",
    "\n",
    "        # Check if the directory exists and write the file name\n",
    "        if os.path.isdir(class_dir):\n",
    "            for img in os.listdir(class_dir):\n",
    "                writer.writerow([os.path.join(class_dir, img), class_label])\n",
    "        else:\n",
    "            print(f\"Directory for {label} not found.\")\n"
   ]
  },
  {
   "cell_type": "markdown",
   "metadata": {},
   "source": [
    "## Organizing data to upload to Hugging Face"
   ]
  },
  {
   "cell_type": "code",
   "execution_count": 1,
   "metadata": {},
   "outputs": [],
   "source": [
    "import os\n",
    "import pandas as pd\n",
    "from datasets import Dataset, Features, ClassLabel, Value, Image\n",
    "from datasets import load_dataset\n",
    "from huggingface_hub import HfApi, HfFolder"
   ]
  },
  {
   "cell_type": "code",
   "execution_count": 48,
   "metadata": {},
   "outputs": [],
   "source": [
    "img_dir = '/Users/rei/Dev/ml/lulab/mm_multi_class'\n",
    "\n",
    "# Load the CSV file\n",
    "csv_path = os.path.join(img_dir, 'dataset/labels.csv')\n",
    "df = pd.read_csv(csv_path)"
   ]
  },
  {
   "cell_type": "code",
   "execution_count": 49,
   "metadata": {},
   "outputs": [
    {
     "name": "stdout",
     "output_type": "stream",
     "text": [
      "Index(['filename', 'label'], dtype='object')\n"
     ]
    }
   ],
   "source": [
    "print(df.columns)"
   ]
  },
  {
   "cell_type": "code",
   "execution_count": 50,
   "metadata": {},
   "outputs": [],
   "source": [
    "df = df.rename(columns={'filename': 'image'})"
   ]
  },
  {
   "cell_type": "code",
   "execution_count": 51,
   "metadata": {},
   "outputs": [],
   "source": [
    "df['image'] = df['image'].apply(lambda x: os.path.join(img_dir, x) if not x.startswith(img_dir) else x)\n",
    "# df['label'] = df['label'].astype(str)"
   ]
  },
  {
   "cell_type": "code",
   "execution_count": 52,
   "metadata": {},
   "outputs": [],
   "source": [
    "features = Features({\n",
    "    'image': Image(),\n",
    "    'label': ClassLabel(names=df['label'].unique().tolist())\n",
    "})"
   ]
  },
  {
   "cell_type": "code",
   "execution_count": 53,
   "metadata": {},
   "outputs": [],
   "source": [
    "dataset = Dataset.from_pandas(df[['image','label']], features=features)"
   ]
  },
  {
   "cell_type": "code",
   "execution_count": 54,
   "metadata": {},
   "outputs": [
    {
     "data": {
      "text/plain": [
       "Dataset({\n",
       "    features: ['image', 'label'],\n",
       "    num_rows: 30\n",
       "})"
      ]
     },
     "execution_count": 54,
     "metadata": {},
     "output_type": "execute_result"
    }
   ],
   "source": [
    "dataset"
   ]
  },
  {
   "cell_type": "code",
   "execution_count": 55,
   "metadata": {},
   "outputs": [
    {
     "name": "stderr",
     "output_type": "stream",
     "text": [
      "Map: 100%|██████████| 30/30 [00:00<00:00, 743.95 examples/s] ?it/s]\n",
      "Creating parquet from Arrow format: 100%|██████████| 1/1 [00:00<00:00, 72.58ba/s]\n",
      "Uploading the dataset shards: 100%|██████████| 1/1 [00:10<00:00, 10.65s/it]\n"
     ]
    },
    {
     "data": {
      "text/plain": [
       "CommitInfo(commit_url='https://huggingface.co/datasets/AggaMin/mm_mutli_class/commit/22ad36a43842acf58b0e92e270214d99df5bb0db', commit_message='Upload dataset', commit_description='', oid='22ad36a43842acf58b0e92e270214d99df5bb0db', pr_url=None, pr_revision=None, pr_num=None)"
      ]
     },
     "execution_count": 55,
     "metadata": {},
     "output_type": "execute_result"
    }
   ],
   "source": [
    "dataset.push_to_hub(\"AggaMin/mm_mutli_class\")"
   ]
  }
 ],
 "metadata": {
  "kernelspec": {
   "display_name": "txtnlp",
   "language": "python",
   "name": "python3"
  },
  "language_info": {
   "codemirror_mode": {
    "name": "ipython",
    "version": 3
   },
   "file_extension": ".py",
   "mimetype": "text/x-python",
   "name": "python",
   "nbconvert_exporter": "python",
   "pygments_lexer": "ipython3",
   "version": "3.12.5"
  }
 },
 "nbformat": 4,
 "nbformat_minor": 2
}
